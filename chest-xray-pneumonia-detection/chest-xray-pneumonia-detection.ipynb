{
  "cells": [
    {
      "cell_type": "markdown",
      "metadata": {
        "id": "view-in-github",
        "colab_type": "text"
      },
      "source": [
        "<a href=\"https://colab.research.google.com/github/soroushmirzaei/medical-biological-projects/blob/main/chest-xray-pneumonia-detection/chest-xray-pneumonia-detection.ipynb\" target=\"_parent\"><img src=\"https://colab.research.google.com/assets/colab-badge.svg\" alt=\"Open In Colab\"/></a>"
      ]
    },
    {
      "cell_type": "code",
      "execution_count": null,
      "metadata": {
        "id": "SIYC55FdPdC2"
      },
      "outputs": [],
      "source": [
        "#import requirements libraries\n",
        "import os\n",
        "import zipfile\n",
        "\n",
        "#import mathematics statics libraries\n",
        "import numpy as np\n",
        "import pandas as pd\n",
        "\n",
        "#import visualization libraries\n",
        "import matplotlib.pyplot as plt\n",
        "import seaborn as sns\n",
        "\n",
        "#import machine learning deep learning libraries\n",
        "import tensorflow as tf\n",
        "from tensorflow import keras\n"
      ]
    },
    {
      "cell_type": "code",
      "execution_count": null,
      "metadata": {
        "id": "7nzYKGyZvCs4"
      },
      "outputs": [],
      "source": [
        "#make kaggle json file\n",
        "kaggle_json = {\n",
        "    \"username\":\"kaggle-api-token-username\",\n",
        "    \"key\":\"kaggle-api-token-key\"\n",
        "}\n",
        "pd.Series(kaggle_json).to_json('kaggle.json')\n",
        "\n",
        "#install kaggle libraries\n",
        "!pip install -q kaggle\n",
        "\n",
        "#setup kaggle libraries\n",
        "!mkdir -p ~/.kaggle\n",
        "!cp /content/kaggle.json ~/.kaggle/\n",
        "!chmod 600 /root/.kaggle/kaggle.json\n"
      ]
    },
    {
      "cell_type": "code",
      "execution_count": null,
      "metadata": {
        "colab": {
          "base_uri": "https://localhost:8080/"
        },
        "id": "m1rij25O9gvD",
        "outputId": "d1733649-5a86-411d-932b-caaf6e8415bc"
      },
      "outputs": [
        {
          "output_type": "stream",
          "name": "stdout",
          "text": [
            "Downloading chest-xray-pneumonia.zip to /content\n",
            "100% 2.29G/2.29G [00:17<00:00, 159MB/s]\n",
            "100% 2.29G/2.29G [00:17<00:00, 138MB/s]\n"
          ]
        }
      ],
      "source": [
        "#download kaggle dataset\n",
        "!kaggle datasets download paultimothymooney/chest-xray-pneumonia\n"
      ]
    },
    {
      "cell_type": "code",
      "execution_count": null,
      "metadata": {
        "id": "HyCTutUKsFm7"
      },
      "outputs": [],
      "source": [
        "#unzip file\n",
        "def unzip(file_name, type_file = 'zip'):\n",
        "    cur_dir = os.getcwd()\n",
        "    file_path = os.path.join(cur_dir, f'{file_name}.{type_file}')\n",
        "    file = zipfile.ZipFile(file_path)\n",
        "    file.extractall(os.path.join(cur_dir, file_name))\n",
        "    file.close()\n",
        "    "
      ]
    },
    {
      "cell_type": "code",
      "execution_count": null,
      "metadata": {
        "id": "OBB-WGmr7UVp"
      },
      "outputs": [],
      "source": [
        "unzip('/content/chest-xray-pneumonia')\n"
      ]
    },
    {
      "cell_type": "code",
      "execution_count": null,
      "metadata": {
        "id": "7ZzOk7ckxEl9"
      },
      "outputs": [],
      "source": [
        "#remove file with zero size\n",
        "def remove_file_zero(dir_path):\n",
        "    for root, dirs, files in os.walk(dir_path):\n",
        "        for file in files:\n",
        "            if os.path.getsize(os.path.join(root, file)) == 0:\n",
        "                os.remove(os.path.join(root, file))"
      ]
    },
    {
      "cell_type": "code",
      "execution_count": null,
      "metadata": {
        "id": "5Wj__Kj28gRI"
      },
      "outputs": [],
      "source": [
        "remove_file_zero('/content/chest-xray-pneumonia/chest_xray/chest_xray')\n"
      ]
    },
    {
      "cell_type": "code",
      "execution_count": null,
      "metadata": {
        "id": "9VOp3yjNyEkJ"
      },
      "outputs": [],
      "source": [
        "#romove other file type\n",
        "def remove_type(dir_path):\n",
        "    for root, dirs, files in os.walk(dir_path):\n",
        "        for file in files:\n",
        "            if file.split('.')[-1] not in ['jpg', 'jpeg', 'bmp', 'png', 'gif']:\n",
        "                os.remove(os.path.join(root, file))"
      ]
    },
    {
      "cell_type": "code",
      "execution_count": null,
      "metadata": {
        "id": "SOKwsNccSXcZ"
      },
      "outputs": [],
      "source": [
        "remove_type('/content/chest-xray-pneumonia/chest_xray/train')\n",
        "remove_type('/content/chest-xray-pneumonia/chest_xray/val')\n",
        "remove_type('/content/chest-xray-pneumonia/chest_xray/test')\n"
      ]
    },
    {
      "cell_type": "code",
      "execution_count": null,
      "metadata": {
        "id": "lCPfRfk3xsZR"
      },
      "outputs": [],
      "source": [
        "#rename file in label num format\n",
        "def rename_file(dir_path):\n",
        "    for label in os.listdir(dir_path):\n",
        "        num = 0\n",
        "        for file in os.scandir(os.path.join(dir_path, label)):\n",
        "            file_name = file.name\n",
        "            ext = file_name.split('.')[1]\n",
        "            num = num + 1\n",
        "            os.rename(file.path, os.path.join(dir_path, label, f'{label} {num}.{ext}'))\n"
      ]
    },
    {
      "cell_type": "code",
      "execution_count": null,
      "metadata": {
        "id": "1wKtTNvpSc6n"
      },
      "outputs": [],
      "source": [
        "rename_file('/content/chest-xray-pneumonia/chest_xray/train')\n",
        "rename_file('/content/chest-xray-pneumonia/chest_xray/val')\n",
        "rename_file('/content/chest-xray-pneumonia/chest_xray/test')\n"
      ]
    },
    {
      "cell_type": "code",
      "source": [
        "#capsfold file names\n",
        "def caps_file(dir_path):\n",
        "    for root, dirs, files in os.walk(dir_path):\n",
        "        for dir in dirs:\n",
        "            os.rename(os.path.join(root,dir), os.path.join(root,dir.title()))\n",
        "    for root, dirs, files in os.walk(dir_path):\n",
        "        for file in files:\n",
        "            os.rename(os.path.join(root,file), os.path.join(root,file.title()))"
      ],
      "metadata": {
        "id": "lgrQGeGeIhdx"
      },
      "execution_count": null,
      "outputs": []
    },
    {
      "cell_type": "code",
      "source": [
        "caps_file('/content/chest-xray-pneumonia/chest_xray/train')\n",
        "caps_file('/content/chest-xray-pneumonia/chest_xray/val')\n",
        "caps_file('/content/chest-xray-pneumonia/chest_xray/test')\n"
      ],
      "metadata": {
        "id": "pOzvykeLIsdD"
      },
      "execution_count": null,
      "outputs": []
    },
    {
      "cell_type": "code",
      "execution_count": null,
      "metadata": {
        "colab": {
          "base_uri": "https://localhost:8080/"
        },
        "id": "BhK-i6rPvglQ",
        "outputId": "609ce816-c291-4be7-a791-319b27bdde49"
      },
      "outputs": [
        {
          "output_type": "stream",
          "name": "stdout",
          "text": [
            "Found 5216 images belonging to 2 classes.\n",
            "Found 624 images belonging to 2 classes.\n",
            "Found 16 images belonging to 2 classes.\n"
          ]
        }
      ],
      "source": [
        "#define training validation set\n",
        "Height = 300\n",
        "Width = 300\n",
        "\n",
        "train_gen = keras.preprocessing.image.ImageDataGenerator(rescale = 1/255, zoom_range = 0.5, horizontal_flip = True,\n",
        "                                                         rotation_range = 10)\n",
        "train_data = train_gen.flow_from_directory('/content/chest-xray-pneumonia/chest_xray/train', \n",
        "                                           target_size = (Height, Width), batch_size = 32,\n",
        "                                           color_mode = 'rgb', class_mode = 'sparse', seed = 0)\n",
        "\n",
        "valid_gen = keras.preprocessing.image.ImageDataGenerator(rescale = 1/255)\n",
        "valid_data = valid_gen.flow_from_directory('/content/chest-xray-pneumonia/chest_xray/test',\n",
        "                                           target_size = (Height, Width), batch_size = 32,\n",
        "                                           color_mode = 'rgb', class_mode = 'sparse', seed = 0)\n",
        "\n",
        "test_gen = keras.preprocessing.image.ImageDataGenerator(rescale = 1/255)\n",
        "test_data = test_gen.flow_from_directory('/content/chest-xray-pneumonia/chest_xray/val',\n",
        "                                         target_size = (Height, Width), batch_size = 32,\n",
        "                                         color_mode = 'rgb', class_mode = 'sparse', seed = 0)\n"
      ]
    },
    {
      "cell_type": "code",
      "execution_count": null,
      "metadata": {
        "id": "y2NwkVwpqKfq"
      },
      "outputs": [],
      "source": [
        "#define pretrained model\n",
        "pretrained_model = keras.applications.InceptionResNetV2(input_shape = (Height, Width, 3), include_top = False)\n",
        "\n",
        "for layer in pretrained_model.layers:\n",
        "    layer.trainable = False\n",
        "\n",
        "output_pre = pretrained_model.output\n"
      ]
    },
    {
      "cell_type": "code",
      "execution_count": null,
      "metadata": {
        "id": "_xnYj4neVWVN"
      },
      "outputs": [],
      "source": [
        "#create model function\n",
        "def create_model(#convolution layer configuration\n",
        "                 conv_layers_num, conv_filters, conv_kernel_size, flatten_dropout_ratio, \n",
        "                 #dense layer configuration\n",
        "                 dense_layers_num, dense_units, dense_dropout_ratio,\n",
        "                 #output layer configuration\n",
        "                 out_dropout_ratio, out_units = train_data.num_classes,\n",
        "                 #activations configuration\n",
        "                 conv_activation = 'relu', dense_activation = 'relu', out_activation = 'softmax',\n",
        "\n",
        "                 #input shape\n",
        "                 inp_shape = (Height, Width, 3),\n",
        "\n",
        "                 #compiling Configuration\n",
        "                 compile_optimizer = 'adam', compile_loss ='sparse_categorical_crossentropy' ,\n",
        "                 compile_metric = ['accuracy'],\n",
        "                 \n",
        "                 #pretrained_model configuration\n",
        "                 flatten_input = None, pretrained_input = False,\n",
        "                 \n",
        "                 #convolution layers\n",
        "                 conv_base = True, batch_norm_conv = True,\n",
        "                 #flatten layer\n",
        "                 flatten_layer = True, flatten_dropout_out = True,\n",
        "                 #dense layers\n",
        "                 dense_head = True,  batch_norm_dense = True, dropout_dense = True,\n",
        "                 #output layer\n",
        "                 batch_norm_out = True, dropout_out = True\n",
        "                 ):\n",
        "\n",
        "    #define input layer\n",
        "    input = keras.Input(inp_shape)\n",
        "    out = input\n",
        "\n",
        "    #define convolution layers\n",
        "    if conv_base:\n",
        "        for i in range(conv_layers_num):\n",
        "            if batch_norm_conv:\n",
        "                out = keras.layers.BatchNormalization()(out)\n",
        "            out = keras.layers.Conv2D(filters = conv_filters[i],\n",
        "                                      kernel_size = conv_kernel_size[i], activation = conv_activation,\n",
        "                                      kernel_initializer = keras.initializers.GlorotNormal())(out)\n",
        "            out = keras.layers.MaxPool2D(pool_size = 2)(out)\n",
        "\n",
        "    #convert two dims to one dim\n",
        "    if flatten_layer:\n",
        "        try:\n",
        "            out = keras.layers.Flatten()(flatten_input)\n",
        "        except:\n",
        "            out = keras.layers.Flatten()(out)\n",
        "\n",
        "    if flatten_dropout_out:\n",
        "        out = keras.layers.Dropout(flatten_dropout_ratio)(out)\n",
        "\n",
        "    #define dense layers\n",
        "    if dense_head:\n",
        "        for i in range(dense_layers_num):\n",
        "            if batch_norm_dense:\n",
        "                out = keras.layers.BatchNormalization()(out)\n",
        "            out = keras.layers.Dense(units = dense_units[i], activation = dense_activation,\n",
        "                                     kernel_initializer = keras.initializers.HeNormal())(out)\n",
        "            if dropout_dense:\n",
        "                out = keras.layers.Dropout(dense_dropout_ratio[i])(out)\n",
        "\n",
        "    #define output layers\n",
        "    if batch_norm_out:\n",
        "        out = keras.layers.BatchNormalization()(out)\n",
        "    if dropout_out:\n",
        "        out = keras.layers.Dropout(out_dropout_ratio)(out)\n",
        "    output = keras.layers.Dense(units = out_units, activation = out_activation)(out)\n",
        "\n",
        "    if pretrained_input:\n",
        "        input = pretrained_model.input\n",
        "\n",
        "    model = keras.models.Model(input, output)\n",
        "\n",
        "    #define model compile\n",
        "    model.compile(optimizer = compile_optimizer,\n",
        "                  loss = compile_loss,\n",
        "                  metrics = compile_metric)\n",
        "\n",
        "    return model\n"
      ]
    },
    {
      "cell_type": "code",
      "execution_count": null,
      "metadata": {
        "id": "AbKkF-OEvHwR"
      },
      "outputs": [],
      "source": [
        "#define custom callbacks\n",
        "class callback(keras.callbacks.Callback):\n",
        "    def on_epoch_end(self, epoch, logs = None):\n",
        "        self.model.save('/content/chest-xray-pneumonia-detection-model.h5')\n",
        "        "
      ]
    },
    {
      "cell_type": "code",
      "execution_count": null,
      "metadata": {
        "id": "Tu-f1qv2hBtD"
      },
      "outputs": [],
      "source": [
        "#create model\n",
        "model = create_model(#convolution layer configuration\n",
        "                     conv_layers_num = int(3), conv_filters = list([32,64,64]), conv_kernel_size = list([3,3,3]),\n",
        "                     flatten_dropout_ratio = float(0.2), \n",
        "                     #dense layer configuration\n",
        "                     dense_layers_num = int(2), dense_units = list([128,128]), dense_dropout_ratio = list([0.2,0.2]), \n",
        "                     #output layer configuration\n",
        "                     out_dropout_ratio = float(0.2), out_units = train_data.num_classes,\n",
        "                     #activations configuration\n",
        "                     conv_activation = 'relu', dense_activation = 'relu', out_activation = 'softmax',\n",
        "                     \n",
        "                     #input shape\n",
        "                     inp_shape = (Height, Width, 3),\n",
        "                     \n",
        "                     #compiling Configuration\n",
        "                     compile_optimizer = 'adam', compile_loss = 'sparse_categorical_crossentropy' ,\n",
        "                     compile_metric = ['accuracy'],\n",
        "                     \n",
        "                     #pretrained_model configuration\n",
        "                     flatten_input = output_pre, pretrained_input = True,\n",
        "\n",
        "                     #convolution layers\n",
        "                     conv_base = True, batch_norm_conv = True,\n",
        "                     #flatten layer\n",
        "                     flatten_layer = True, flatten_dropout_out = True,                  \n",
        "                     #dense layers\n",
        "                     dense_head = True,  batch_norm_dense = True, dropout_dense = True,\n",
        "                     #output layer\n",
        "                     batch_norm_out = True, dropout_out = True\n",
        "                    )\n"
      ]
    },
    {
      "cell_type": "code",
      "execution_count": null,
      "metadata": {
        "id": "J3IZZX3i-6VC"
      },
      "outputs": [],
      "source": [
        "#fit model for training\n",
        "model.fit(train_data, validation_data = valid_data, epochs = 100, \n",
        "          callbacks = [keras.callbacks.EarlyStopping(patience = 5, restore_best_weights = True, monitor = 'val_loss'),\n",
        "                       keras.callbacks.CSVLogger('log.csv', append = True), callback()])\n"
      ]
    },
    {
      "cell_type": "code",
      "execution_count": null,
      "metadata": {
        "id": "15x7dLePYEHJ",
        "colab": {
          "base_uri": "https://localhost:8080/",
          "height": 374
        },
        "outputId": "42d09b16-a3c9-4f21-c9cd-728c660287e6"
      },
      "outputs": [
        {
          "output_type": "display_data",
          "data": {
            "text/plain": [
              "<Figure size 648x432 with 1 Axes>"
            ],
            "image/png": "[encoded data removed]"
          },
          "metadata": {
            "needs_background": "light"
          }
        }
      ],
      "source": [
        "#plot training model loss\n",
        "pd.DataFrame(model.history.history)[['loss', 'val_loss']].plot(figsize = (9, 6), linewidth = 3)\n",
        "plt.grid(linestyle = '--', linewidth = 2)\n",
        "plt.show()\n"
      ]
    },
    {
      "cell_type": "code",
      "execution_count": null,
      "metadata": {
        "id": "R59nQOxUxS64",
        "colab": {
          "base_uri": "https://localhost:8080/",
          "height": 378
        },
        "outputId": "0d995862-5c58-43f4-f9b7-7e89efc3ea91"
      },
      "outputs": [
        {
          "output_type": "display_data",
          "data": {
            "text/plain": [
              "<Figure size 648x432 with 1 Axes>"
            ],
            "image/png": "[encoded data removed]"
          },
          "metadata": {
            "needs_background": "light"
          }
        }
      ],
      "source": [
        "#plot training model accuracy\n",
        "pd.DataFrame(model.history.history)[['accuracy', 'val_accuracy']].plot(figsize = (9, 6), linewidth = 3)\n",
        "plt.grid(linestyle = '--', linewidth = 2)\n",
        "plt.ylim(0,1)\n",
        "plt.show()\n"
      ]
    },
    {
      "cell_type": "code",
      "execution_count": null,
      "metadata": {
        "id": "OVGEBmauJpn2",
        "colab": {
          "base_uri": "https://localhost:8080/"
        },
        "outputId": "2b4d263d-b61a-45ae-f0c0-f31356a95ddf"
      },
      "outputs": [
        {
          "output_type": "stream",
          "name": "stdout",
          "text": [
            "Training Set Evaluation:\n",
            "\tLoss: 0.0915\tAccuracy: 96.63000000000001%\n",
            "Validation Set Evaluation:\n",
            "\tLoss: 0.1809\tAccuracy: 92.15%\n",
            "Testing Set Evaluation:\n",
            "\tLoss: 0.3048\tAccuracy: 87.5%\n"
          ]
        }
      ],
      "source": [
        "#model evaluation\n",
        "train_set_eval = model.evaluate(train_data, verbose = 0)\n",
        "valid_set_eval = model.evaluate(valid_data, verbose = 0)\n",
        "test_set_eval = model.evaluate(test_data, verbose = 0)\n",
        "\n",
        "print(f'Training Set Evaluation:\\n\\tLoss: {round(train_set_eval[0],4)}\\tAccuracy: {100*round(train_set_eval[1],4)}%')\n",
        "print(f'Validation Set Evaluation:\\n\\tLoss: {round(valid_set_eval[0],4)}\\tAccuracy: {100*round(valid_set_eval[1],4)}%')\n",
        "print(f'Testing Set Evaluation:\\n\\tLoss: {round(test_set_eval[0],4)}\\tAccuracy: {100*round(test_set_eval[1],4)}%')\n"
      ]
    },
    {
      "cell_type": "code",
      "execution_count": null,
      "metadata": {
        "id": "ztOCm0OHB6N1"
      },
      "outputs": [],
      "source": [
        "#make list of images for random prediction\n",
        "def image_file(dir_path):\n",
        "    image_list = list()\n",
        "    for root, dirs, files in os.walk(dir_path):\n",
        "        for file in files:\n",
        "            image_list.append(os.path.join(root, file))\n",
        "    return image_list\n"
      ]
    },
    {
      "cell_type": "code",
      "execution_count": null,
      "metadata": {
        "id": "aXb7VGJVfIJ6",
        "colab": {
          "base_uri": "https://localhost:8080/",
          "height": 264
        },
        "outputId": "4e729a62-ecee-4963-deba-e6dd1efb4829"
      },
      "outputs": [
        {
          "output_type": "display_data",
          "data": {
            "text/plain": [
              "<Figure size 432x288 with 1 Axes>"
            ],
            "image/png": "[encoded data removed]"
          },
          "metadata": {
            "needs_background": "light"
          }
        }
      ],
      "source": [
        "#draw random image\n",
        "img = np.random.choice(image_file('/content/chest-xray-pneumonia/chest_xray/val'))\n",
        "image = img\n",
        "img = keras.preprocessing.image.load_img(img, target_size = (Height, Width),\n",
        "                                         color_mode = 'rgb')\n",
        "img = keras.preprocessing.image.img_to_array(img)\n",
        "\n",
        "img = img/255\n",
        "plt.axis('off')\n",
        "plt.imshow(img)\n",
        "plt.title(image.split('/')[-1])\n",
        "plt.show()\n"
      ]
    },
    {
      "cell_type": "code",
      "execution_count": null,
      "metadata": {
        "id": "cuwHGS-WgK4o",
        "colab": {
          "base_uri": "https://localhost:8080/",
          "height": 99
        },
        "outputId": "38cc9372-08d5-4559-d5eb-13498318261c"
      },
      "outputs": [
        {
          "output_type": "stream",
          "name": "stdout",
          "text": [
            "Model Prediction:\n"
          ]
        },
        {
          "output_type": "execute_result",
          "data": {
            "text/plain": [
              "     Normal  Pneumonia\n",
              "0  0.771712   0.228288"
            ],
            "text/html": [
              "\n",
              "  <div id=\"df-336b4ce3-6a11-40ec-a1b6-2ebee0715304\">\n",
              "    <div class=\"colab-df-container\">\n",
              "      <div>\n",
              "<style scoped>\n",
              "    .dataframe tbody tr th:only-of-type {\n",
              "        vertical-align: middle;\n",
              "    }\n",
              "\n",
              "    .dataframe tbody tr th {\n",
              "        vertical-align: top;\n",
              "    }\n",
              "\n",
              "    .dataframe thead th {\n",
              "        text-align: right;\n",
              "    }\n",
              "</style>\n",
              "<table border=\"1\" class=\"dataframe\">\n",
              "  <thead>\n",
              "    <tr style=\"text-align: right;\">\n",
              "      <th></th>\n",
              "      <th>Normal</th>\n",
              "      <th>Pneumonia</th>\n",
              "    </tr>\n",
              "  </thead>\n",
              "  <tbody>\n",
              "    <tr>\n",
              "      <th>0</th>\n",
              "      <td>0.771712</td>\n",
              "      <td>0.228288</td>\n",
              "    </tr>\n",
              "  </tbody>\n",
              "</table>\n",
              "</div>\n",
              "      <button class=\"colab-df-convert\" onclick=\"convertToInteractive('df-336b4ce3-6a11-40ec-a1b6-2ebee0715304')\"\n",
              "              title=\"Convert this dataframe to an interactive table.\"\n",
              "              style=\"display:none;\">\n",
              "        \n",
              "  <svg xmlns=\"http://www.w3.org/2000/svg\" height=\"24px\"viewBox=\"0 0 24 24\"\n",
              "       width=\"24px\">\n",
              "    <path d=\"M0 0h24v24H0V0z\" fill=\"none\"/>\n",
              "    <path d=\"M18.56 5.44l.94 2.06.94-2.06 2.06-.94-2.06-.94-.94-2.06-.94 2.06-2.06.94zm-11 1L8.5 8.5l.94-2.06 2.06-.94-2.06-.94L8.5 2.5l-.94 2.06-2.06.94zm10 10l.94 2.06.94-2.06 2.06-.94-2.06-.94-.94-2.06-.94 2.06-2.06.94z\"/><path d=\"M17.41 7.96l-1.37-1.37c-.4-.4-.92-.59-1.43-.59-.52 0-1.04.2-1.43.59L10.3 9.45l-7.72 7.72c-.78.78-.78 2.05 0 2.83L4 21.41c.39.39.9.59 1.41.59.51 0 1.02-.2 1.41-.59l7.78-7.78 2.81-2.81c.8-.78.8-2.07 0-2.86zM5.41 20L4 18.59l7.72-7.72 1.47 1.35L5.41 20z\"/>\n",
              "  </svg>\n",
              "      </button>\n",
              "      \n",
              "  <style>\n",
              "    .colab-df-container {\n",
              "      display:flex;\n",
              "      flex-wrap:wrap;\n",
              "      gap: 12px;\n",
              "    }\n",
              "\n",
              "    .colab-df-convert {\n",
              "      background-color: #E8F0FE;\n",
              "      border: none;\n",
              "      border-radius: 50%;\n",
              "      cursor: pointer;\n",
              "      display: none;\n",
              "      fill: #1967D2;\n",
              "      height: 32px;\n",
              "      padding: 0 0 0 0;\n",
              "      width: 32px;\n",
              "    }\n",
              "\n",
              "    .colab-df-convert:hover {\n",
              "      background-color: #E2EBFA;\n",
              "      box-shadow: 0px 1px 2px rgba(60, 64, 67, 0.3), 0px 1px 3px 1px rgba(60, 64, 67, 0.15);\n",
              "      fill: #174EA6;\n",
              "    }\n",
              "\n",
              "    [theme=dark] .colab-df-convert {\n",
              "      background-color: #3B4455;\n",
              "      fill: #D2E3FC;\n",
              "    }\n",
              "\n",
              "    [theme=dark] .colab-df-convert:hover {\n",
              "      background-color: #434B5C;\n",
              "      box-shadow: 0px 1px 3px 1px rgba(0, 0, 0, 0.15);\n",
              "      filter: drop-shadow(0px 1px 2px rgba(0, 0, 0, 0.3));\n",
              "      fill: #FFFFFF;\n",
              "    }\n",
              "  </style>\n",
              "\n",
              "      <script>\n",
              "        const buttonEl =\n",
              "          document.querySelector('#df-336b4ce3-6a11-40ec-a1b6-2ebee0715304 button.colab-df-convert');\n",
              "        buttonEl.style.display =\n",
              "          google.colab.kernel.accessAllowed ? 'block' : 'none';\n",
              "\n",
              "        async function convertToInteractive(key) {\n",
              "          const element = document.querySelector('#df-336b4ce3-6a11-40ec-a1b6-2ebee0715304');\n",
              "          const dataTable =\n",
              "            await google.colab.kernel.invokeFunction('convertToInteractive',\n",
              "                                                     [key], {});\n",
              "          if (!dataTable) return;\n",
              "\n",
              "          const docLinkHtml = 'Like what you see? Visit the ' +\n",
              "            '<a target=\"_blank\" href=https://colab.research.google.com/notebooks/data_table.ipynb>data table notebook</a>'\n",
              "            + ' to learn more about interactive tables.';\n",
              "          element.innerHTML = '';\n",
              "          dataTable['output_type'] = 'display_data';\n",
              "          await google.colab.output.renderOutput(dataTable, element);\n",
              "          const docLink = document.createElement('div');\n",
              "          docLink.innerHTML = docLinkHtml;\n",
              "          element.appendChild(docLink);\n",
              "        }\n",
              "      </script>\n",
              "    </div>\n",
              "  </div>\n",
              "  "
            ]
          },
          "metadata": {},
          "execution_count": 60
        }
      ],
      "source": [
        "#prediction for random image\n",
        "img = np.expand_dims(img, 0)\n",
        "print('Model Prediction:')\n",
        "pd.DataFrame(model.predict(img), columns = train_data.class_indices)\n"
      ]
    },
    {
      "cell_type": "code",
      "execution_count": null,
      "metadata": {
        "id": "ABCDEFGHIJKL"
      },
      "outputs": [],
      "source": [
        "#save model\n",
        "model.save('/content/chest-xray-pneumonia-detection-model.h5')\n"
      ]
    }
  ],
  "metadata": {
    "colab": {
      "collapsed_sections": [],
      "name": "chest-xray-pneumonia-detection.ipynb",
      "provenance": [],
      "include_colab_link": true
    },
    "kernelspec": {
      "display_name": "Python 3",
      "name": "python3"
    },
    "language_info": {
      "name": "python"
    },
    "accelerator": "GPU",
    "gpuClass": "standard"
  },
  "nbformat": 4,
  "nbformat_minor": 0
}