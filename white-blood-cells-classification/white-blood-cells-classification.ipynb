{
  "nbformat": 4,
  "nbformat_minor": 0,
  "metadata": {
    "colab": {
      "name": "white-blood-cells-classification.ipynb",
      "provenance": [],
      "collapsed_sections": [],
      "include_colab_link": true
    },
    "kernelspec": {
      "name": "python3",
      "display_name": "Python 3"
    },
    "language_info": {
      "name": "python"
    },
    "accelerator": "GPU",
    "gpuClass": "standard"
  },
  "cells": [
    {
      "cell_type": "markdown",
      "metadata": {
        "id": "view-in-github",
        "colab_type": "text"
      },
      "source": [
        "<a href=\"https://colab.research.google.com/github/soroushmirzaei/medical-biological-projects/blob/main/white-blood-cells-classification/white-blood-cells-classification.ipynb\" target=\"_parent\"><img src=\"https://colab.research.google.com/assets/colab-badge.svg\" alt=\"Open In Colab\"/></a>"
      ]
    },
    {
      "cell_type": "code",
      "execution_count": null,
      "metadata": {
        "id": "SIYC55FdPdC2"
      },
      "outputs": [],
      "source": [
        "#import requirements libraries\n",
        "import os\n",
        "import zipfile\n",
        "\n",
        "#import mathematics statics libraries\n",
        "import numpy as np\n",
        "import pandas as pd\n",
        "\n",
        "#import visualization libraries\n",
        "import matplotlib.pyplot as plt\n",
        "import seaborn as sns\n",
        "\n",
        "#import machine learning deep learning libraries\n",
        "import tensorflow as tf\n",
        "from tensorflow import keras\n"
      ]
    },
    {
      "cell_type": "code",
      "source": [
        "#make kaggle json file\n",
        "kaggle_json = {\n",
        "    \"username\":\"kaggle-api-token-username\",\n",
        "    \"key\":\"kaggle-api-token-key\"\n",
        "}\n",
        "pd.Series(kaggle_json).to_json('kaggle.json')\n",
        "\n",
        "#install kaggle libraries\n",
        "!pip install -q kaggle\n",
        "\n",
        "#setup kaggle libraries\n",
        "!mkdir -p ~/.kaggle\n",
        "!cp /content/kaggle.json ~/.kaggle/\n",
        "!chmod 600 /root/.kaggle/kaggle.json\n"
      ],
      "metadata": {
        "id": "7nzYKGyZvCs4"
      },
      "execution_count": null,
      "outputs": []
    },
    {
      "cell_type": "code",
      "source": [
        "#download kaggle dataset\n",
        "!kaggle datasets download paultimothymooney/blood-cells\n"
      ],
      "metadata": {
        "id": "mbm5yBPAwHv_",
        "colab": {
          "base_uri": "https://localhost:8080/"
        },
        "outputId": "2ec36662-5507-41b0-b218-aa0c8a540984"
      },
      "execution_count": null,
      "outputs": [
        {
          "output_type": "stream",
          "name": "stdout",
          "text": [
            "Downloading blood-cells.zip to /content\n",
            " 97% 105M/108M [00:05<00:00, 29.7MB/s] \n",
            "100% 108M/108M [00:05<00:00, 22.0MB/s]\n"
          ]
        }
      ]
    },
    {
      "cell_type": "code",
      "source": [
        "#unzip file\n",
        "def unzip(file_name, type_file = 'zip'):\n",
        "    cur_dir = os.getcwd()\n",
        "    file_path = os.path.join(cur_dir, f'{file_name}.{type_file}')\n",
        "    file = zipfile.ZipFile(file_path)\n",
        "    file.extractall(os.path.join(cur_dir, file_name))\n",
        "    file.close()\n"
      ],
      "metadata": {
        "id": "HyCTutUKsFm7"
      },
      "execution_count": null,
      "outputs": []
    },
    {
      "cell_type": "code",
      "source": [
        "unzip('blood-cells')\n"
      ],
      "metadata": {
        "id": "7__kVcrLwaFu"
      },
      "execution_count": null,
      "outputs": []
    },
    {
      "cell_type": "code",
      "source": [
        "#remove file with zero size\n",
        "def remove_file_zero(dir_path):\n",
        "    for root, dirs, files in os.walk(dir_path):\n",
        "        for file in files:\n",
        "            if os.path.getsize(os.path.join(root, file)) == 0:\n",
        "                os.remove(os.path.join(root, file))\n"
      ],
      "metadata": {
        "id": "7ZzOk7ckxEl9"
      },
      "execution_count": null,
      "outputs": []
    },
    {
      "cell_type": "code",
      "source": [
        "remove_file_zero('/content/blood-cells/dataset2-master/dataset2-master/images')\n"
      ],
      "metadata": {
        "id": "tZWcP7X6wf2f"
      },
      "execution_count": null,
      "outputs": []
    },
    {
      "cell_type": "code",
      "source": [
        "#romove other file type\n",
        "def remove_type(dir_path):\n",
        "    for root, dirs, files in os.walk(dir_path):\n",
        "        for file in files:\n",
        "            if file.split('.')[-1] not in ['jpg', 'jpeg', 'bmp', 'png', 'gif']:\n",
        "                os.remove(os.path.join(root, file))\n"
      ],
      "metadata": {
        "id": "9VOp3yjNyEkJ"
      },
      "execution_count": null,
      "outputs": []
    },
    {
      "cell_type": "code",
      "source": [
        "remove_type('/content/blood-cells/dataset2-master/dataset2-master/images/TRAIN')\n",
        "remove_type('/content/blood-cells/dataset2-master/dataset2-master/images/TEST')\n",
        "remove_type('/content/blood-cells/dataset2-master/dataset2-master/images/TEST_SIMPLE')\n"
      ],
      "metadata": {
        "id": "BC2UvWGCwkkq"
      },
      "execution_count": null,
      "outputs": []
    },
    {
      "cell_type": "code",
      "source": [
        "#rename file in label num format\n",
        "def rename_file(dir_path):\n",
        "    for label in os.listdir(dir_path):\n",
        "        num = 0\n",
        "        for file in os.scandir(os.path.join(dir_path, label)):\n",
        "            file_name = file.name\n",
        "            ext = file_name.split('.')[1]\n",
        "            num = num + 1\n",
        "            os.rename(file.path, os.path.join(dir_path, label, f'{label} {num}.{ext}'))\n"
      ],
      "metadata": {
        "id": "lCPfRfk3xsZR"
      },
      "execution_count": null,
      "outputs": []
    },
    {
      "cell_type": "code",
      "source": [
        "rename_file('/content/blood-cells/dataset2-master/dataset2-master/images/TRAIN')\n",
        "rename_file('/content/blood-cells/dataset2-master/dataset2-master/images/TEST')\n",
        "rename_file('/content/blood-cells/dataset2-master/dataset2-master/images/TEST_SIMPLE')\n"
      ],
      "metadata": {
        "id": "Etk2WW-Nwo1I"
      },
      "execution_count": null,
      "outputs": []
    },
    {
      "cell_type": "code",
      "source": [
        "#capsfold file names\n",
        "def caps_file(dir_path):\n",
        "    for root, dirs, files in os.walk(dir_path):\n",
        "        for dir in dirs:\n",
        "            os.rename(os.path.join(root,dir), os.path.join(root,dir.title()))\n",
        "    for root, dirs, files in os.walk(dir_path):\n",
        "        for file in files:\n",
        "            os.rename(os.path.join(root,file), os.path.join(root,file.title()))\n"
      ],
      "metadata": {
        "id": "Kw70HvNs-_lo"
      },
      "execution_count": null,
      "outputs": []
    },
    {
      "cell_type": "code",
      "source": [
        "caps_file('/content/blood-cells/dataset2-master/dataset2-master/images/TRAIN')\n",
        "caps_file('/content/blood-cells/dataset2-master/dataset2-master/images/TEST')\n",
        "caps_file('/content/blood-cells/dataset2-master/dataset2-master/images/TEST_SIMPLE')\n"
      ],
      "metadata": {
        "id": "a24pSrklxBqE"
      },
      "execution_count": null,
      "outputs": []
    },
    {
      "cell_type": "code",
      "source": [
        "#define training validation set\n",
        "Height = 200\n",
        "Width = 200\n",
        "\n",
        "train_gen = keras.preprocessing.image.ImageDataGenerator(rescale = 1/255, rotation_range = 180, zoom_range = 0.2,\n",
        "                                                         height_shift_range = 0.3, width_shift_range = 0.3,\n",
        "                                                         vertical_flip = True, horizontal_flip = True)\n",
        "train_data = train_gen.flow_from_directory('/content/blood-cells/dataset2-master/dataset2-master/images/TRAIN',\n",
        "                                           target_size = (Height, Width), batch_size = 128,\n",
        "                                           color_mode = 'rgb', class_mode = 'sparse', seed = 0)\n",
        "\n",
        "valid_gen = keras.preprocessing.image.ImageDataGenerator(rescale = 1/255)\n",
        "valid_data = valid_gen.flow_from_directory('/content/blood-cells/dataset2-master/dataset2-master/images/TEST',\n",
        "                                         target_size = (Height, Width), batch_size = 128,\n",
        "                                         color_mode = 'rgb', class_mode = 'sparse', seed = 0)\n",
        "\n",
        "test_gen = keras.preprocessing.image.ImageDataGenerator(rescale = 1/255)\n",
        "test_data = test_gen.flow_from_directory('/content/blood-cells/dataset2-master/dataset2-master/images/TEST_SIMPLE',\n",
        "                                         target_size = (Height, Width), batch_size = 128,\n",
        "                                         color_mode = 'rgb', class_mode = 'sparse', seed = 0)\n"
      ],
      "metadata": {
        "id": "BhK-i6rPvglQ",
        "colab": {
          "base_uri": "https://localhost:8080/"
        },
        "outputId": "f131d691-aaf3-4d94-9cfe-6eb80c8ae57d"
      },
      "execution_count": null,
      "outputs": [
        {
          "output_type": "stream",
          "name": "stdout",
          "text": [
            "Found 9957 images belonging to 4 classes.\n",
            "Found 2487 images belonging to 4 classes.\n",
            "Found 71 images belonging to 4 classes.\n"
          ]
        }
      ]
    },
    {
      "cell_type": "code",
      "source": [
        "#define pretrained model\n",
        "pretrained_model = keras.applications.InceptionResNetV2(input_shape = (Height, Width, 3), include_top = False)\n",
        "\n",
        "for layer in pretrained_model.layers:\n",
        "    layer.trainable = True\n"
      ],
      "metadata": {
        "id": "y2NwkVwpqKfq"
      },
      "execution_count": null,
      "outputs": []
    },
    {
      "cell_type": "code",
      "source": [
        "#create model function\n",
        "def create_model(#dense layer configuration\n",
        "                 dense_layers_num, dense_units, dense_dropout_ratio,\n",
        "                 #output layer configuration\n",
        "                 out_units = train_data.num_classes,\n",
        "                 #activations configuration\n",
        "                 dense_activation = 'relu', out_activation = 'softmax',\n",
        "\n",
        "                 #input shape\n",
        "                 inp_shape = (Height, Width, 3),\n",
        "\n",
        "                 #compiling Configuration\n",
        "                 compile_optimizer = 'adam', compile_loss ='sparse_categorical_crossentropy' ,\n",
        "                 compile_metric = ['accuracy'],\n",
        "                                  \n",
        "                 #dense layers\n",
        "                 dense_head = True,  batch_norm_dense = True, dropout_dense = True,\n",
        "                 #output layer\n",
        "                 dropout_out = True):\n",
        "\n",
        "    #define input layer\n",
        "    input = keras.Input(inp_shape)\n",
        "\n",
        "    #define transfer learning layer\n",
        "    out = pretrained_model(input)\n",
        "\n",
        "    #convert dimensionality\n",
        "    out = keras.layers.Flatten()(out)\n",
        "\n",
        "    #feature extracter dropout layer \n",
        "    out = keras.layers.Dropout(0.3)(out)\n",
        "\n",
        "    #define dense layers\n",
        "    if dense_head:\n",
        "        for i in range(dense_layers_num):\n",
        "            if batch_norm_dense:\n",
        "                out = keras.layers.BatchNormalization()(out)\n",
        "            out = keras.layers.Dense(units = dense_units[i], activation = dense_activation)(out)\n",
        "            if dropout_dense:\n",
        "                out = keras.layers.Dropout(dense_dropout_ratio[i])(out)\n",
        "\n",
        "    #define output layers\n",
        "    output = keras.layers.Dense(units = out_units, activation = out_activation)(out)\n",
        "\n",
        "    #define model with inputs and outputs\n",
        "    model = keras.models.Model(input, output)\n",
        "\n",
        "    #define model compile\n",
        "    model.compile(optimizer = compile_optimizer,\n",
        "                  loss = compile_loss,\n",
        "                  metrics = compile_metric)\n",
        "\n",
        "    return model\n"
      ],
      "metadata": {
        "id": "_xnYj4neVWVN"
      },
      "execution_count": null,
      "outputs": []
    },
    {
      "cell_type": "code",
      "source": [
        "#define custom callbacks\n",
        "class callback(keras.callbacks.Callback):\n",
        "    def on_epoch_end(self, epoch, logs = None):\n",
        "        self.model.save('/content/white-blood-cells-classification-model.h5')\n",
        "        "
      ],
      "metadata": {
        "id": "AbKkF-OEvHwR"
      },
      "execution_count": null,
      "outputs": []
    },
    {
      "cell_type": "code",
      "source": [
        "#create model\n",
        "model = create_model(#dense layer configuration\n",
        "                     dense_layers_num = 2, dense_units = [64, 64], dense_dropout_ratio = [0.3, 0.3], \n",
        "                     #output layer configuration\n",
        "                     out_units = train_data.num_classes,\n",
        "                     #activations configuration\n",
        "                     dense_activation = 'relu', out_activation = 'softmax',\n",
        "                     \n",
        "                     #input shape\n",
        "                     inp_shape = (Height, Width, 3),\n",
        "                     \n",
        "                     #compiling Configuration\n",
        "                     compile_optimizer = 'adam', compile_loss = 'sparse_categorical_crossentropy' ,\n",
        "                     compile_metric = ['accuracy'],\n",
        "\n",
        "                     #dense layers\n",
        "                     dense_head = True,  batch_norm_dense = True, dropout_dense = True,\n",
        "                     #output layer\n",
        "                     dropout_out = True)\n"
      ],
      "metadata": {
        "id": "Tu-f1qv2hBtD"
      },
      "execution_count": null,
      "outputs": []
    },
    {
      "cell_type": "code",
      "source": [
        "#fit model for training\n",
        "model.fit(train_data, validation_data = valid_data, epochs = 100, verbose = 0,\n",
        "          callbacks = [keras.callbacks.EarlyStopping(patience = 5, restore_best_weights = True, monitor = 'val_loss'),\n",
        "                       keras.callbacks.CSVLogger('log.csv'), callback()])\n"
      ],
      "metadata": {
        "id": "J3IZZX3i-6VC"
      },
      "execution_count": null,
      "outputs": []
    },
    {
      "cell_type": "code",
      "source": [
        "#plot history and logger\n",
        "pd.read_csv('/content/log.csv')[['loss', 'val_loss']].plot(figsize = (9, 6), linewidth = 3)\n",
        "plt.grid(linestyle = '--', linewidth = 2)\n",
        "plt.show()\n"
      ],
      "metadata": {
        "id": "15x7dLePYEHJ",
        "colab": {
          "base_uri": "https://localhost:8080/",
          "height": 374
        },
        "outputId": "78fff886-7746-4454-e5b7-7acf45bfb398"
      },
      "execution_count": null,
      "outputs": [
        {
          "output_type": "display_data",
          "data": {
            "text/plain": [
              "<Figure size 648x432 with 1 Axes>"
            ],
            "image/png": "[encoded data removed]"
          },
          "metadata": {
            "needs_background": "light"
          }
        }
      ]
    },
    {
      "cell_type": "code",
      "source": [
        "#plot history and logger\n",
        "pd.read_csv('/content/log.csv')[['accuracy', 'val_accuracy']].plot(figsize = (9, 6), linewidth = 3)\n",
        "plt.grid(linestyle = '--', linewidth = 2)\n",
        "plt.ylim(0,1)\n",
        "plt.show()\n"
      ],
      "metadata": {
        "id": "Lw9LzuX7dEiv",
        "colab": {
          "base_uri": "https://localhost:8080/",
          "height": 378
        },
        "outputId": "ae683e7f-77f6-4153-b236-cb0820c92341"
      },
      "execution_count": null,
      "outputs": [
        {
          "output_type": "display_data",
          "data": {
            "text/plain": [
              "<Figure size 648x432 with 1 Axes>"
            ],
            "image/png": "[encoded data removed]"
          },
          "metadata": {
            "needs_background": "light"
          }
        }
      ]
    },
    {
      "cell_type": "code",
      "source": [
        "#model evaluation\n",
        "train_set_eval = model.evaluate(train_data, verbose = 0, return_dict = True)\n",
        "valid_set_eval = model.evaluate(valid_data, verbose = 0, return_dict = True)\n",
        "test_set_eval = model.evaluate(test_data, verbose = 0, return_dict = True)\n",
        "\n",
        "print('Training Set Evaluation:')\n",
        "for item in train_set_eval:\n",
        "    print(f'\\t{item.title()}:\\t{round(train_set_eval[item],4)}', end = '\\t')\n",
        "print()\n",
        "print('Validation Set Evaluation:')\n",
        "for item in valid_set_eval:\n",
        "    print(f'\\t{item.title()}:\\t{round(valid_set_eval[item],4)}', end = '\\t')\n",
        "print()\n",
        "print('Testing Set Evaluation:')\n",
        "for item in valid_set_eval:\n",
        "    print(f'\\t{item.title()}:\\t{round(test_set_eval[item],4)}', end = '\\t')\n"
      ],
      "metadata": {
        "id": "DxRbFpzyK_G7",
        "colab": {
          "base_uri": "https://localhost:8080/"
        },
        "outputId": "52d67327-fcbb-479e-f8b7-8cc8359aa29e"
      },
      "execution_count": null,
      "outputs": [
        {
          "output_type": "stream",
          "name": "stdout",
          "text": [
            "Training Set Evaluation:\n",
            "\tLoss:\t0.0217\t\tAccuracy:\t0.9931\t\n",
            "Validation Set Evaluation:\n",
            "\tLoss:\t0.5737\t\tAccuracy:\t0.8814\t\n",
            "Testing Set Evaluation:\n",
            "\tLoss:\t0.2536\t\tAccuracy:\t0.9437\t"
          ]
        }
      ]
    },
    {
      "cell_type": "code",
      "source": [
        "#make list of images for random prediction\n",
        "def image_file(dir_path):\n",
        "    image_list = list()\n",
        "    for root, dirs, files in os.walk(dir_path):\n",
        "        for file in files:\n",
        "            image_list.append(os.path.join(root, file))\n",
        "    return image_list\n"
      ],
      "metadata": {
        "id": "ztOCm0OHB6N1"
      },
      "execution_count": null,
      "outputs": []
    },
    {
      "cell_type": "code",
      "source": [
        "#draw random image\n",
        "img = np.random.choice(image_file('/content/blood-cells/dataset2-master/dataset2-master/images/TEST_SIMPLE'))\n",
        "image = img\n",
        "img = keras.preprocessing.image.load_img(img, target_size = (Height, Width),\n",
        "                                         color_mode = 'rgb')\n",
        "img = keras.preprocessing.image.img_to_array(img)\n",
        "\n",
        "img = img/255\n",
        "plt.axis('off')\n",
        "plt.imshow(img)\n",
        "plt.title(image.split('/')[-1])\n",
        "plt.show()\n"
      ],
      "metadata": {
        "id": "aXb7VGJVfIJ6",
        "colab": {
          "base_uri": "https://localhost:8080/",
          "height": 264
        },
        "outputId": "490c64da-b6ac-462d-d838-488b8de9811a"
      },
      "execution_count": null,
      "outputs": [
        {
          "output_type": "display_data",
          "data": {
            "text/plain": [
              "<Figure size 432x288 with 1 Axes>"
            ],
            "image/png": "[encoded data removed]"
          },
          "metadata": {
            "needs_background": "light"
          }
        }
      ]
    },
    {
      "cell_type": "code",
      "source": [
        "#prediction for random image\n",
        "img = np.expand_dims(img, 0)\n",
        "pd.DataFrame(model.predict(img), columns = train_data.class_indices)\n"
      ],
      "metadata": {
        "id": "cuwHGS-WgK4o",
        "colab": {
          "base_uri": "https://localhost:8080/",
          "height": 81
        },
        "outputId": "ddc05e4d-fce7-4cba-b7c3-0c926eb7ea1e"
      },
      "execution_count": null,
      "outputs": [
        {
          "output_type": "execute_result",
          "data": {
            "text/plain": [
              "   Eosinophil  Lymphocyte  Monocyte  Neutrophil\n",
              "0    0.963561    0.000076  0.000003     0.03636"
            ],
            "text/html": [
              "\n",
              "  <div id=\"df-18d45f6d-49b6-42d4-9327-bfa8ab8db4e4\">\n",
              "    <div class=\"colab-df-container\">\n",
              "      <div>\n",
              "<style scoped>\n",
              "    .dataframe tbody tr th:only-of-type {\n",
              "        vertical-align: middle;\n",
              "    }\n",
              "\n",
              "    .dataframe tbody tr th {\n",
              "        vertical-align: top;\n",
              "    }\n",
              "\n",
              "    .dataframe thead th {\n",
              "        text-align: right;\n",
              "    }\n",
              "</style>\n",
              "<table border=\"1\" class=\"dataframe\">\n",
              "  <thead>\n",
              "    <tr style=\"text-align: right;\">\n",
              "      <th></th>\n",
              "      <th>Eosinophil</th>\n",
              "      <th>Lymphocyte</th>\n",
              "      <th>Monocyte</th>\n",
              "      <th>Neutrophil</th>\n",
              "    </tr>\n",
              "  </thead>\n",
              "  <tbody>\n",
              "    <tr>\n",
              "      <th>0</th>\n",
              "      <td>0.963561</td>\n",
              "      <td>0.000076</td>\n",
              "      <td>0.000003</td>\n",
              "      <td>0.03636</td>\n",
              "    </tr>\n",
              "  </tbody>\n",
              "</table>\n",
              "</div>\n",
              "      <button class=\"colab-df-convert\" onclick=\"convertToInteractive('df-18d45f6d-49b6-42d4-9327-bfa8ab8db4e4')\"\n",
              "              title=\"Convert this dataframe to an interactive table.\"\n",
              "              style=\"display:none;\">\n",
              "        \n",
              "  <svg xmlns=\"http://www.w3.org/2000/svg\" height=\"24px\"viewBox=\"0 0 24 24\"\n",
              "       width=\"24px\">\n",
              "    <path d=\"M0 0h24v24H0V0z\" fill=\"none\"/>\n",
              "    <path d=\"M18.56 5.44l.94 2.06.94-2.06 2.06-.94-2.06-.94-.94-2.06-.94 2.06-2.06.94zm-11 1L8.5 8.5l.94-2.06 2.06-.94-2.06-.94L8.5 2.5l-.94 2.06-2.06.94zm10 10l.94 2.06.94-2.06 2.06-.94-2.06-.94-.94-2.06-.94 2.06-2.06.94z\"/><path d=\"M17.41 7.96l-1.37-1.37c-.4-.4-.92-.59-1.43-.59-.52 0-1.04.2-1.43.59L10.3 9.45l-7.72 7.72c-.78.78-.78 2.05 0 2.83L4 21.41c.39.39.9.59 1.41.59.51 0 1.02-.2 1.41-.59l7.78-7.78 2.81-2.81c.8-.78.8-2.07 0-2.86zM5.41 20L4 18.59l7.72-7.72 1.47 1.35L5.41 20z\"/>\n",
              "  </svg>\n",
              "      </button>\n",
              "      \n",
              "  <style>\n",
              "    .colab-df-container {\n",
              "      display:flex;\n",
              "      flex-wrap:wrap;\n",
              "      gap: 12px;\n",
              "    }\n",
              "\n",
              "    .colab-df-convert {\n",
              "      background-color: #E8F0FE;\n",
              "      border: none;\n",
              "      border-radius: 50%;\n",
              "      cursor: pointer;\n",
              "      display: none;\n",
              "      fill: #1967D2;\n",
              "      height: 32px;\n",
              "      padding: 0 0 0 0;\n",
              "      width: 32px;\n",
              "    }\n",
              "\n",
              "    .colab-df-convert:hover {\n",
              "      background-color: #E2EBFA;\n",
              "      box-shadow: 0px 1px 2px rgba(60, 64, 67, 0.3), 0px 1px 3px 1px rgba(60, 64, 67, 0.15);\n",
              "      fill: #174EA6;\n",
              "    }\n",
              "\n",
              "    [theme=dark] .colab-df-convert {\n",
              "      background-color: #3B4455;\n",
              "      fill: #D2E3FC;\n",
              "    }\n",
              "\n",
              "    [theme=dark] .colab-df-convert:hover {\n",
              "      background-color: #434B5C;\n",
              "      box-shadow: 0px 1px 3px 1px rgba(0, 0, 0, 0.15);\n",
              "      filter: drop-shadow(0px 1px 2px rgba(0, 0, 0, 0.3));\n",
              "      fill: #FFFFFF;\n",
              "    }\n",
              "  </style>\n",
              "\n",
              "      <script>\n",
              "        const buttonEl =\n",
              "          document.querySelector('#df-18d45f6d-49b6-42d4-9327-bfa8ab8db4e4 button.colab-df-convert');\n",
              "        buttonEl.style.display =\n",
              "          google.colab.kernel.accessAllowed ? 'block' : 'none';\n",
              "\n",
              "        async function convertToInteractive(key) {\n",
              "          const element = document.querySelector('#df-18d45f6d-49b6-42d4-9327-bfa8ab8db4e4');\n",
              "          const dataTable =\n",
              "            await google.colab.kernel.invokeFunction('convertToInteractive',\n",
              "                                                     [key], {});\n",
              "          if (!dataTable) return;\n",
              "\n",
              "          const docLinkHtml = 'Like what you see? Visit the ' +\n",
              "            '<a target=\"_blank\" href=https://colab.research.google.com/notebooks/data_table.ipynb>data table notebook</a>'\n",
              "            + ' to learn more about interactive tables.';\n",
              "          element.innerHTML = '';\n",
              "          dataTable['output_type'] = 'display_data';\n",
              "          await google.colab.output.renderOutput(dataTable, element);\n",
              "          const docLink = document.createElement('div');\n",
              "          docLink.innerHTML = docLinkHtml;\n",
              "          element.appendChild(docLink);\n",
              "        }\n",
              "      </script>\n",
              "    </div>\n",
              "  </div>\n",
              "  "
            ]
          },
          "metadata": {},
          "execution_count": 80
        }
      ]
    },
    {
      "cell_type": "code",
      "source": [
        "#save model\n",
        "model.save('/content/white-blood-cells-classification-model.h5')\n"
      ],
      "metadata": {
        "id": "ABCDEFGHIJKL"
      },
      "execution_count": null,
      "outputs": []
    }
  ]
}