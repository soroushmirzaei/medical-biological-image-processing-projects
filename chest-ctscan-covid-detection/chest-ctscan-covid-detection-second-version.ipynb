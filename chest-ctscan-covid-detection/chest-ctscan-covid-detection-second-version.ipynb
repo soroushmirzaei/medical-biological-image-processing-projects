{
  "cells": [
    {
      "cell_type": "markdown",
      "metadata": {
        "id": "view-in-github",
        "colab_type": "text"
      },
      "source": [
        "<a href=\"https://colab.research.google.com/github/soroushmirzaei/medical-biological-projects/blob/main/chest-ctscan-covid-detection/chest-ctscan-covid-detection-second-version.ipynb\" target=\"_parent\"><img src=\"https://colab.research.google.com/assets/colab-badge.svg\" alt=\"Open In Colab\"/></a>"
      ]
    },
    {
      "cell_type": "code",
      "execution_count": null,
      "metadata": {
        "id": "SIYC55FdPdC2"
      },
      "outputs": [],
      "source": [
        "#import requirements libraries\n",
        "import os\n",
        "import zipfile\n",
        "\n",
        "#import mathematics statics libraries\n",
        "import numpy as np\n",
        "import pandas as pd\n",
        "\n",
        "#import visualization libraries\n",
        "import matplotlib.pyplot as plt\n",
        "import seaborn as sns\n",
        "\n",
        "#import machine learning deep learning libraries\n",
        "import tensorflow as tf\n",
        "from tensorflow import keras\n"
      ]
    },
    {
      "cell_type": "code",
      "execution_count": null,
      "metadata": {
        "id": "7nzYKGyZvCs4"
      },
      "outputs": [],
      "source": [
        "#make kaggle json file\n",
        "kaggle_json = {\n",
        "    \"username\":\"kaggle-api-token-username\",\n",
        "    \"key\":\"kaggle-api-token-key\"\n",
        "}\n",
        "pd.Series(kaggle_json).to_json('kaggle.json')\n",
        "\n",
        "#install kaggle libraries\n",
        "!pip install -q kaggle\n",
        "\n",
        "#setup kaggle libraries\n",
        "!mkdir -p ~/.kaggle\n",
        "!cp /content/kaggle.json ~/.kaggle/\n",
        "!chmod 600 /root/.kaggle/kaggle.json\n"
      ]
    },
    {
      "cell_type": "code",
      "execution_count": null,
      "metadata": {
        "colab": {
          "base_uri": "https://localhost:8080/"
        },
        "id": "m1rij25O9gvD",
        "outputId": "eaf0b57d-e1ea-4da6-d903-c29737adc6f2"
      },
      "outputs": [
        {
          "name": "stdout",
          "output_type": "stream",
          "text": [
            "Downloading preprocessed-ct-scans-for-covid19.zip to /content\n",
            "100% 3.57G/3.59G [00:34<00:00, 89.0MB/s]\n",
            "100% 3.59G/3.59G [00:34<00:00, 111MB/s] \n"
          ]
        }
      ],
      "source": [
        "#download kaggle dataset\n",
        "!kaggle datasets download azaemon/preprocessed-ct-scans-for-covid19\n"
      ]
    },
    {
      "cell_type": "code",
      "execution_count": null,
      "metadata": {
        "id": "HyCTutUKsFm7"
      },
      "outputs": [],
      "source": [
        "#unzip file\n",
        "def unzip(file_name, type_file = 'zip'):\n",
        "    cur_dir = os.getcwd()\n",
        "    file_path = os.path.join(cur_dir, f'{file_name}.{type_file}')\n",
        "    file = zipfile.ZipFile(file_path)\n",
        "    file.extractall(os.path.join(cur_dir, file_name))\n",
        "    file.close()\n",
        "    "
      ]
    },
    {
      "cell_type": "code",
      "execution_count": null,
      "metadata": {
        "id": "OBB-WGmr7UVp"
      },
      "outputs": [],
      "source": [
        "unzip('preprocessed-ct-scans-for-covid19')\n"
      ]
    },
    {
      "cell_type": "code",
      "execution_count": null,
      "metadata": {
        "id": "7ZzOk7ckxEl9"
      },
      "outputs": [],
      "source": [
        "#remove file with zero size\n",
        "def remove_file_zero(dir_path):\n",
        "    for root, dirs, files in os.walk(dir_path):\n",
        "        for file in files:\n",
        "            if os.path.getsize(os.path.join(root, file)) == 0:\n",
        "                os.remove(os.path.join(root, file))"
      ]
    },
    {
      "cell_type": "code",
      "execution_count": null,
      "metadata": {
        "id": "5Wj__Kj28gRI"
      },
      "outputs": [],
      "source": [
        "remove_file_zero('/content/preprocessed-ct-scans-for-covid19/Preprocessed CT scans')\n",
        "remove_file_zero('/content/preprocessed-ct-scans-for-covid19/Original CT Scans')\n"
      ]
    },
    {
      "cell_type": "code",
      "execution_count": null,
      "metadata": {
        "id": "9VOp3yjNyEkJ"
      },
      "outputs": [],
      "source": [
        "#romove other file type\n",
        "def remove_type(dir_path):\n",
        "    for root, dirs, files in os.walk(dir_path):\n",
        "        for file in files:\n",
        "            if file.split('.')[-1] not in ['jpg', 'jpeg', 'bmp', 'png', 'gif']:\n",
        "                os.remove(os.path.join(root, file))"
      ]
    },
    {
      "cell_type": "code",
      "execution_count": null,
      "metadata": {
        "id": "SOKwsNccSXcZ"
      },
      "outputs": [],
      "source": [
        "remove_type('/content/preprocessed-ct-scans-for-covid19/Preprocessed CT scans')\n",
        "remove_type('/content/preprocessed-ct-scans-for-covid19/Original CT Scans')\n"
      ]
    },
    {
      "cell_type": "code",
      "execution_count": null,
      "metadata": {
        "id": "lCPfRfk3xsZR"
      },
      "outputs": [],
      "source": [
        "#rename file in label num format\n",
        "def rename_file(dir_path):\n",
        "    for label in os.listdir(dir_path):\n",
        "        num = 0\n",
        "        for file in os.scandir(os.path.join(dir_path, label)):\n",
        "            file_name = file.name\n",
        "            ext = file_name.split('.')[1]\n",
        "            num = num + 1\n",
        "            os.rename(file.path, os.path.join(dir_path, label, f'{label} {num}.{ext}'))\n"
      ]
    },
    {
      "cell_type": "code",
      "execution_count": null,
      "metadata": {
        "id": "1wKtTNvpSc6n"
      },
      "outputs": [],
      "source": [
        "rename_file('/content/preprocessed-ct-scans-for-covid19/Preprocessed CT scans')\n",
        "rename_file('/content/preprocessed-ct-scans-for-covid19/Original CT Scans')\n"
      ]
    },
    {
      "cell_type": "code",
      "execution_count": null,
      "metadata": {
        "colab": {
          "base_uri": "https://localhost:8080/"
        },
        "id": "BhK-i6rPvglQ",
        "outputId": "115ca8cb-532c-4601-f165-d85f8a82c08d"
      },
      "outputs": [
        {
          "name": "stdout",
          "output_type": "stream",
          "text": [
            "Found 17718 images belonging to 3 classes.\n",
            "Found 1967 images belonging to 3 classes.\n"
          ]
        }
      ],
      "source": [
        "#define training validation set\n",
        "Height = 150\n",
        "Width = 150\n",
        "\n",
        "train_gen = keras.preprocessing.image.ImageDataGenerator(rescale = 1/255, validation_split = 0.1)\n",
        "train_data = train_gen.flow_from_directory('/content/preprocessed-ct-scans-for-covid19/Preprocessed CT scans', \n",
        "                                           target_size = (Height, Width), batch_size = 32,\n",
        "                                           color_mode = 'rgb', class_mode = 'sparse', seed = 0, subset = 'training')\n",
        "\n",
        "valid_gen = keras.preprocessing.image.ImageDataGenerator(rescale = 1/255, validation_split = 0.1)\n",
        "valid_data = valid_gen.flow_from_directory('/content/preprocessed-ct-scans-for-covid19/Preprocessed CT scans',\n",
        "                                         target_size = (Height, Width), batch_size = 32,\n",
        "                                         color_mode = 'rgb', class_mode = 'sparse', seed = 0, subset = 'validation')\n"
      ]
    },
    {
      "cell_type": "code",
      "execution_count": null,
      "metadata": {
        "id": "y2NwkVwpqKfq"
      },
      "outputs": [],
      "source": [
        "#define pretrained model\n",
        "pretrained_model = keras.applications.InceptionV3(input_shape = (Height, Width, 3),\n",
        "                                                  include_top = False)\n",
        "\n",
        "for layer in pretrained_model.layers:\n",
        "    layer.trainable = False\n",
        "\n",
        "output_pre = pretrained_model.output\n"
      ]
    },
    {
      "cell_type": "code",
      "execution_count": null,
      "metadata": {
        "id": "z66jIDvpqw1-"
      },
      "outputs": [],
      "source": [
        "#define custom pretrained model\n",
        "out_layer = pretrained_model.get_layer('mixed8')\n",
        "output_custom_pre = out_layer.output\n"
      ]
    },
    {
      "cell_type": "code",
      "execution_count": null,
      "metadata": {
        "id": "_xnYj4neVWVN"
      },
      "outputs": [],
      "source": [
        "#create model function\n",
        "def create_model(#convolution layer configuration\n",
        "                 conv_layers_num, conv_filters, conv_kernel_size, flatten_dropout_ratio, \n",
        "                 #dense layer configuration\n",
        "                 dense_layers_num, dense_units, dense_dropout_ratio,\n",
        "                 #output layer configuration\n",
        "                 out_dropout_ratio, out_units = train_data.num_classes,\n",
        "                 #activations configuration\n",
        "                 conv_activation = 'relu', dense_activation = 'relu', out_activation = 'softmax',\n",
        "\n",
        "                 #input shape\n",
        "                 inp_shape = (Height, Width, 3),\n",
        "\n",
        "                 #compiling Configuration\n",
        "                 compile_optimizer = 'adam', compile_loss ='sparse_categorical_crossentropy' ,\n",
        "                 compile_metric = ['accuracy'],\n",
        "                 \n",
        "                 #pretrained_model configuration\n",
        "                 flatten_input = None, pretrained_input = False,\n",
        "                 \n",
        "                 #convolution layers\n",
        "                 conv_base = True, batch_norm_conv = True,\n",
        "                 #flatten layer\n",
        "                 flatten_layer = True, flatten_dropout_out = True,\n",
        "                 #dense layers\n",
        "                 dense_head = True,  batch_norm_dense = True, dropout_dense = True,\n",
        "                 #output layer\n",
        "                 batch_norm_out = True, dropout_out = True\n",
        "                 ):\n",
        "\n",
        "    #define input layer\n",
        "    input = keras.Input(inp_shape)\n",
        "    out = input\n",
        "\n",
        "    #define convolution layers\n",
        "    if conv_base:\n",
        "        for i in range(conv_layers_num):\n",
        "            if batch_norm_conv:\n",
        "                out = keras.layers.BatchNormalization()(out)\n",
        "            out = keras.layers.Conv2D(filters = conv_filters[i],\n",
        "                                      kernel_size = conv_kernel_size[i], activation = conv_activation,\n",
        "                                      kernel_initializer = keras.initializers.GlorotNormal())(out)\n",
        "            out = keras.layers.MaxPool2D(pool_size = 2)(out)\n",
        "\n",
        "    #convert two dims to one dim\n",
        "    if flatten_layer:\n",
        "        try:\n",
        "            out = keras.layers.Flatten()(flatten_input)\n",
        "        except:\n",
        "            out = keras.layers.Flatten()(out)\n",
        "\n",
        "    if flatten_dropout_out:\n",
        "        out = keras.layers.Dropout(flatten_dropout_ratio)(out)\n",
        "\n",
        "    #define dense layers\n",
        "    if dense_head:\n",
        "        for i in range(dense_layers_num):\n",
        "            if batch_norm_dense:\n",
        "                out = keras.layers.BatchNormalization()(out)\n",
        "            out = keras.layers.Dense(units = dense_units[i], activation = dense_activation,\n",
        "                                     kernel_initializer = keras.initializers.HeNormal())(out)\n",
        "            if dropout_dense:\n",
        "                out = keras.layers.Dropout(dense_dropout_ratio[i])(out)\n",
        "\n",
        "    #define output layers\n",
        "    if batch_norm_out:\n",
        "        out = keras.layers.BatchNormalization()(out)\n",
        "    if dropout_out:\n",
        "        out = keras.layers.Dropout(out_dropout_ratio)(out)\n",
        "    output = keras.layers.Dense(units = out_units, activation = out_activation)(out)\n",
        "\n",
        "    if pretrained_input:\n",
        "        input = pretrained_model.input\n",
        "\n",
        "    model = keras.models.Model(input, output)\n",
        "\n",
        "    #define model compile\n",
        "    model.compile(optimizer = compile_optimizer,\n",
        "                  loss = compile_loss,\n",
        "                  metrics = compile_metric)\n",
        "\n",
        "    return model\n"
      ]
    },
    {
      "cell_type": "code",
      "execution_count": null,
      "metadata": {
        "id": "AbKkF-OEvHwR"
      },
      "outputs": [],
      "source": [
        "#define custom callbacks\n",
        "class callback(keras.callbacks.Callback):\n",
        "    def on_epoch_end(self, epoch, logs = None):\n",
        "        self.model.save('/content/chest-ctscan-covid-detection-model.h5')\n",
        "        "
      ]
    },
    {
      "cell_type": "code",
      "execution_count": null,
      "metadata": {
        "id": "Tu-f1qv2hBtD"
      },
      "outputs": [],
      "source": [
        "#create model\n",
        "model = create_model(#convolution layer configuration\n",
        "                     conv_layers_num = int(3), conv_filters = list([32,64,64]), conv_kernel_size = list([3,3,3]),\n",
        "                     flatten_dropout_ratio = float(0.2), \n",
        "                     #dense layer configuration\n",
        "                     dense_layers_num = int(2), dense_units = list([128,128]), dense_dropout_ratio = list([0.2,0.2,0.2]), \n",
        "                     #output layer configuration\n",
        "                     out_dropout_ratio = float(0.2), out_units = train_data.num_classes,\n",
        "                     #activations configuration\n",
        "                     conv_activation = 'relu', dense_activation = 'relu', out_activation = 'softmax',\n",
        "                     \n",
        "                     #input shape\n",
        "                     inp_shape = (Height, Width, 3),\n",
        "                     \n",
        "                     #compiling Configuration\n",
        "                     compile_optimizer = 'adam', compile_loss = 'sparse_categorical_crossentropy' ,\n",
        "                     compile_metric = ['accuracy'],\n",
        "                     \n",
        "                     #pretrained_model configuration\n",
        "                     flatten_input = output_custom_pre, pretrained_input = True,\n",
        "\n",
        "                     #convolution layers\n",
        "                     conv_base = True, batch_norm_conv = True,\n",
        "                     #flatten layer\n",
        "                     flatten_layer = True, flatten_dropout_out = True,                  \n",
        "                     #dense layers\n",
        "                     dense_head = True,  batch_norm_dense = True, dropout_dense = True,\n",
        "                     #output layer\n",
        "                     batch_norm_out = True, dropout_out = True\n",
        "                    )\n"
      ]
    },
    {
      "cell_type": "code",
      "execution_count": null,
      "metadata": {
        "colab": {
          "background_save": true
        },
        "id": "J3IZZX3i-6VC"
      },
      "outputs": [],
      "source": [
        "#fit model for training\n",
        "model.fit(train_data, validation_data = valid_data, epochs = 100, verbose = 0, \n",
        "          callbacks = [keras.callbacks.EarlyStopping(patience = 5, restore_best_weights = True, monitor = 'val_loss'),\n",
        "                       keras.callbacks.CSVLogger('log.csv', append = True),\n",
        "                       keras.callbacks.ReduceLROnPlateau('val_accuracy', patience = 3, factor = 0.1),\n",
        "                       callback()]\n",
        "          )\n"
      ]
    },
    {
      "cell_type": "code",
      "execution_count": null,
      "metadata": {
        "colab": {
          "background_save": true
        },
        "id": "15x7dLePYEHJ",
        "outputId": "564128d2-c489-4d4c-b0d0-0b1160ae48ef"
      },
      "outputs": [
        {
          "data": {
            "image/png": "[encoded data removed]",
            "text/plain": [
              "<Figure size 648x432 with 1 Axes>"
            ]
          },
          "metadata": {},
          "output_type": "display_data"
        }
      ],
      "source": [
        "#plot training model loss\n",
        "pd.DataFrame(model.history.history)[['loss', 'val_loss']].plot(figsize = (9, 6), linewidth = 3)\n",
        "plt.grid(linestyle = '--', linewidth = 2)\n",
        "plt.show()\n"
      ]
    },
    {
      "cell_type": "code",
      "execution_count": null,
      "metadata": {
        "colab": {
          "background_save": true
        },
        "id": "R59nQOxUxS64",
        "outputId": "2861dd60-3955-4d18-e4f7-69c5823d080f"
      },
      "outputs": [
        {
          "data": {
            "image/png": "[encoded data removed]",
            "text/plain": [
              "<Figure size 648x432 with 1 Axes>"
            ]
          },
          "metadata": {},
          "output_type": "display_data"
        }
      ],
      "source": [
        "#plot training model accuracy\n",
        "pd.DataFrame(model.history.history)[['accuracy', 'val_accuracy']].plot(figsize = (9, 6), linewidth = 3)\n",
        "plt.grid(linestyle = '--', linewidth = 2)\n",
        "plt.ylim(0,1)\n",
        "plt.show()\n"
      ]
    },
    {
      "cell_type": "code",
      "execution_count": null,
      "metadata": {
        "id": "OVGEBmauJpn2",
        "colab": {
          "base_uri": "https://localhost:8080/"
        },
        "outputId": "0b88d6ba-b1f3-4836-d979-f5b5096d299a"
      },
      "outputs": [
        {
          "output_type": "stream",
          "name": "stdout",
          "text": [
            "Training Set Evaluation:\n",
            "\tLoss: 0.0087\tAccuracy: 99.59%\n",
            "Validation Set Evaluation:\n",
            "\tLoss: 0.0313\tAccuracy: 98.88%\n"
          ]
        }
      ],
      "source": [
        "#model evaluation\n",
        "train_set_eval = model.evaluate(train_data, verbose = 0)\n",
        "valid_set_eval = model.evaluate(valid_data, verbose = 0)\n",
        "\n",
        "print(f'Training Set Evaluation:\\n\\tLoss: {round(train_set_eval[0],4)}\\tAccuracy: {100*round(train_set_eval[1],4)}%')\n",
        "print(f'Validation Set Evaluation:\\n\\tLoss: {round(valid_set_eval[0],4)}\\tAccuracy: {100*round(valid_set_eval[1],4)}%')\n"
      ]
    },
    {
      "cell_type": "code",
      "execution_count": null,
      "metadata": {
        "id": "ztOCm0OHB6N1"
      },
      "outputs": [],
      "source": [
        "#make list of images for random prediction\n",
        "def image_file(dir_path):\n",
        "    image_list = list()\n",
        "    for root, dirs, files in os.walk(dir_path):\n",
        "        for file in files:\n",
        "            image_list.append(os.path.join(root, file))\n",
        "    return image_list\n"
      ]
    },
    {
      "cell_type": "code",
      "execution_count": null,
      "metadata": {
        "id": "aXb7VGJVfIJ6",
        "colab": {
          "base_uri": "https://localhost:8080/",
          "height": 264
        },
        "outputId": "193b2b72-9e91-45cf-90f1-f604c707fc92"
      },
      "outputs": [
        {
          "output_type": "display_data",
          "data": {
            "text/plain": [
              "<Figure size 432x288 with 1 Axes>"
            ],
            "image/png": "[encoded data removed]"
          },
          "metadata": {
            "needs_background": "light"
          }
        }
      ],
      "source": [
        "#draw random image\n",
        "img = np.random.choice(image_file('/content/preprocessed-ct-scans-for-covid19/Preprocessed CT scans'))\n",
        "image = img\n",
        "img = keras.preprocessing.image.load_img(img, target_size = (Height, Width),\n",
        "                                         color_mode = 'rgb')\n",
        "img = keras.preprocessing.image.img_to_array(img)\n",
        "\n",
        "img = img/255\n",
        "plt.axis('off')\n",
        "plt.imshow(img)\n",
        "plt.title(image.split('/')[-1])\n",
        "plt.show()"
      ]
    },
    {
      "cell_type": "code",
      "execution_count": null,
      "metadata": {
        "id": "cuwHGS-WgK4o",
        "colab": {
          "base_uri": "https://localhost:8080/",
          "height": 99
        },
        "outputId": "f332686e-ad4c-4a8f-e3da-d999bbedc53f"
      },
      "outputs": [
        {
          "output_type": "stream",
          "name": "stdout",
          "text": [
            "Model Prediction:\n"
          ]
        },
        {
          "output_type": "execute_result",
          "data": {
            "text/plain": [
              "       NiCT       nCT       pCT\n",
              "0  0.000012  0.999912  0.000076"
            ],
            "text/html": [
              "\n",
              "  <div id=\"df-f0574757-a815-4167-8188-15b23002e0c0\">\n",
              "    <div class=\"colab-df-container\">\n",
              "      <div>\n",
              "<style scoped>\n",
              "    .dataframe tbody tr th:only-of-type {\n",
              "        vertical-align: middle;\n",
              "    }\n",
              "\n",
              "    .dataframe tbody tr th {\n",
              "        vertical-align: top;\n",
              "    }\n",
              "\n",
              "    .dataframe thead th {\n",
              "        text-align: right;\n",
              "    }\n",
              "</style>\n",
              "<table border=\"1\" class=\"dataframe\">\n",
              "  <thead>\n",
              "    <tr style=\"text-align: right;\">\n",
              "      <th></th>\n",
              "      <th>NiCT</th>\n",
              "      <th>nCT</th>\n",
              "      <th>pCT</th>\n",
              "    </tr>\n",
              "  </thead>\n",
              "  <tbody>\n",
              "    <tr>\n",
              "      <th>0</th>\n",
              "      <td>0.000012</td>\n",
              "      <td>0.999912</td>\n",
              "      <td>0.000076</td>\n",
              "    </tr>\n",
              "  </tbody>\n",
              "</table>\n",
              "</div>\n",
              "      <button class=\"colab-df-convert\" onclick=\"convertToInteractive('df-f0574757-a815-4167-8188-15b23002e0c0')\"\n",
              "              title=\"Convert this dataframe to an interactive table.\"\n",
              "              style=\"display:none;\">\n",
              "        \n",
              "  <svg xmlns=\"http://www.w3.org/2000/svg\" height=\"24px\"viewBox=\"0 0 24 24\"\n",
              "       width=\"24px\">\n",
              "    <path d=\"M0 0h24v24H0V0z\" fill=\"none\"/>\n",
              "    <path d=\"M18.56 5.44l.94 2.06.94-2.06 2.06-.94-2.06-.94-.94-2.06-.94 2.06-2.06.94zm-11 1L8.5 8.5l.94-2.06 2.06-.94-2.06-.94L8.5 2.5l-.94 2.06-2.06.94zm10 10l.94 2.06.94-2.06 2.06-.94-2.06-.94-.94-2.06-.94 2.06-2.06.94z\"/><path d=\"M17.41 7.96l-1.37-1.37c-.4-.4-.92-.59-1.43-.59-.52 0-1.04.2-1.43.59L10.3 9.45l-7.72 7.72c-.78.78-.78 2.05 0 2.83L4 21.41c.39.39.9.59 1.41.59.51 0 1.02-.2 1.41-.59l7.78-7.78 2.81-2.81c.8-.78.8-2.07 0-2.86zM5.41 20L4 18.59l7.72-7.72 1.47 1.35L5.41 20z\"/>\n",
              "  </svg>\n",
              "      </button>\n",
              "      \n",
              "  <style>\n",
              "    .colab-df-container {\n",
              "      display:flex;\n",
              "      flex-wrap:wrap;\n",
              "      gap: 12px;\n",
              "    }\n",
              "\n",
              "    .colab-df-convert {\n",
              "      background-color: #E8F0FE;\n",
              "      border: none;\n",
              "      border-radius: 50%;\n",
              "      cursor: pointer;\n",
              "      display: none;\n",
              "      fill: #1967D2;\n",
              "      height: 32px;\n",
              "      padding: 0 0 0 0;\n",
              "      width: 32px;\n",
              "    }\n",
              "\n",
              "    .colab-df-convert:hover {\n",
              "      background-color: #E2EBFA;\n",
              "      box-shadow: 0px 1px 2px rgba(60, 64, 67, 0.3), 0px 1px 3px 1px rgba(60, 64, 67, 0.15);\n",
              "      fill: #174EA6;\n",
              "    }\n",
              "\n",
              "    [theme=dark] .colab-df-convert {\n",
              "      background-color: #3B4455;\n",
              "      fill: #D2E3FC;\n",
              "    }\n",
              "\n",
              "    [theme=dark] .colab-df-convert:hover {\n",
              "      background-color: #434B5C;\n",
              "      box-shadow: 0px 1px 3px 1px rgba(0, 0, 0, 0.15);\n",
              "      filter: drop-shadow(0px 1px 2px rgba(0, 0, 0, 0.3));\n",
              "      fill: #FFFFFF;\n",
              "    }\n",
              "  </style>\n",
              "\n",
              "      <script>\n",
              "        const buttonEl =\n",
              "          document.querySelector('#df-f0574757-a815-4167-8188-15b23002e0c0 button.colab-df-convert');\n",
              "        buttonEl.style.display =\n",
              "          google.colab.kernel.accessAllowed ? 'block' : 'none';\n",
              "\n",
              "        async function convertToInteractive(key) {\n",
              "          const element = document.querySelector('#df-f0574757-a815-4167-8188-15b23002e0c0');\n",
              "          const dataTable =\n",
              "            await google.colab.kernel.invokeFunction('convertToInteractive',\n",
              "                                                     [key], {});\n",
              "          if (!dataTable) return;\n",
              "\n",
              "          const docLinkHtml = 'Like what you see? Visit the ' +\n",
              "            '<a target=\"_blank\" href=https://colab.research.google.com/notebooks/data_table.ipynb>data table notebook</a>'\n",
              "            + ' to learn more about interactive tables.';\n",
              "          element.innerHTML = '';\n",
              "          dataTable['output_type'] = 'display_data';\n",
              "          await google.colab.output.renderOutput(dataTable, element);\n",
              "          const docLink = document.createElement('div');\n",
              "          docLink.innerHTML = docLinkHtml;\n",
              "          element.appendChild(docLink);\n",
              "        }\n",
              "      </script>\n",
              "    </div>\n",
              "  </div>\n",
              "  "
            ]
          },
          "metadata": {},
          "execution_count": 52
        }
      ],
      "source": [
        "#prediction for random image\n",
        "img = np.expand_dims(img, 0)\n",
        "print('Model Prediction:')\n",
        "pd.DataFrame(model.predict(img), columns = train_data.class_indices)\n"
      ]
    },
    {
      "cell_type": "code",
      "execution_count": null,
      "metadata": {
        "id": "ABCDEFGHIJKL"
      },
      "outputs": [],
      "source": [
        "#save model\n",
        "model.save('/content/chest-ctscan-covid-detection-model.h5')\n"
      ]
    }
  ],
  "metadata": {
    "colab": {
      "collapsed_sections": [],
      "name": "chest-ctscan-covid-detection-second-version.ipynb",
      "provenance": [],
      "include_colab_link": true
    },
    "kernelspec": {
      "display_name": "Python 3",
      "name": "python3"
    },
    "language_info": {
      "name": "python"
    }
  },
  "nbformat": 4,
  "nbformat_minor": 0
}